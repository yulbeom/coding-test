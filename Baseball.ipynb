{
 "cells": [
  {
   "cell_type": "markdown",
   "metadata": {},
   "source": [
    "### 문제\n",
    "##### 경근이는 수업 과제의 일환으로 연세대학교의 역사를 조사하고 있었다. 케케묵은 도서관 구석에서 경근이가 발견한 것은 역대 연고전의 야구경기 실황 기록문서였다.하지만 문서를 가지고 있음에도 불구하고 한 눈에 당시의 경기 승패를 파악하기에는 어려움이 많았는데, 문서에는 회차별 양 팀 획득 점수만이 적혀져 있기 때문이었다.   \n",
    "\n",
    "##### 경근이는 주어진 방대한 자료를 해석하는것이 귀찮았기 때문에 절친한 프로그래머 친구인 당신에게 도움을 요청했다.\n",
    "\n",
    "#####  주어진 실황 기록문서에서 어떤 팀이 이겼는지를 알아내 경근이를 도와주자!\n",
    "\n",
    "### 입력\n",
    "##### 입력 파일의 첫 번째 줄에 테스트 케이스의 수를 의미하는 자연수 T가 주어진다. 그 다음에는 T개의 테스트 케이스가 주어진다.\n",
    "\n",
    "##### 각 테스트 케이스는 9줄에 걸쳐서 입력되며, 매 줄마다 해당 회의 연세대 득점 Y와 고려대 득점 K가 공백으로 구분되어 주어진다. 이 두 수는 0이상 9이하이다.\n",
    "\n",
    "### 출력\n",
    "##### 각각의 케이스마다 한 줄에 연세대가 이겼을 경우 \"Yonsei\", 고려대가 이겼을 경우 \"Korea\", 비겼을 경우 \"Draw\"를 출력한다.\n",
    "\n",
    "### 예제 입력 1 \n",
    "##### 1\n",
    "##### 1 0\n",
    "##### 0 0\n",
    "##### 0 0\n",
    "##### 0 0\n",
    "##### 0 0\n",
    "##### 0 0\n",
    "##### 0 0\n",
    "##### 0 0\n",
    "##### 0 0\n",
    "### 예제 출력 1 \n",
    "##### Yonsei"
   ]
  },
  {
   "cell_type": "code",
   "execution_count": 2,
   "metadata": {},
   "outputs": [
    {
     "name": "stdout",
     "output_type": "stream",
     "text": [
      "Yonsei\n"
     ]
    }
   ],
   "source": [
    "# self_solved\n",
    "t = int(input())\n",
    "for _ in range(t):\n",
    "    y_list = []\n",
    "    k_list = []\n",
    "\n",
    "    for _ in range(9):\n",
    "        y, k = map(int, input().split())\n",
    "        y_list.append(y)\n",
    "        k_list.append(k)\n",
    "        \n",
    "    y_score = sum(y_list)\n",
    "    k_score = sum(k_list)\n",
    "    \n",
    "    if y_score > k_score:\n",
    "        print(\"Yonsei\")\n",
    "    elif y_score < k_score:\n",
    "        print(\"Korea\")\n",
    "    else:\n",
    "        print(\"Draw\")"
   ]
  }
 ],
 "metadata": {
  "kernelspec": {
   "display_name": "Python 3.9.12 ('ai71')",
   "language": "python",
   "name": "python3"
  },
  "language_info": {
   "codemirror_mode": {
    "name": "ipython",
    "version": 3
   },
   "file_extension": ".py",
   "mimetype": "text/x-python",
   "name": "python",
   "nbconvert_exporter": "python",
   "pygments_lexer": "ipython3",
   "version": "3.9.12"
  },
  "orig_nbformat": 4,
  "vscode": {
   "interpreter": {
    "hash": "5fc38adfa9a9af8a3822bf6098da71de9f021365d9f4f32a7d4ecf83af9c9f72"
   }
  }
 },
 "nbformat": 4,
 "nbformat_minor": 2
}
