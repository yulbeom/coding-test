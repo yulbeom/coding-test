{
 "cells": [
  {
   "cell_type": "markdown",
   "metadata": {},
   "source": [
    "# 소트인사이드"
   ]
  },
  {
   "cell_type": "code",
   "execution_count": null,
   "metadata": {},
   "outputs": [],
   "source": [
    "소트인사이드\n",
    "시간 제한\t메모리 제한\t제출\t정답\t맞힌 사람\t정답 비율\n",
    "2 초\t128 MB\t59667\t38088\t31985\t64.211%\n",
    "문제\n",
    "배열을 정렬하는 것은 쉽다. 수가 주어지면, 그 수의 각 자리수를 내림차순으로 정렬해보자.\n",
    "\n",
    "입력\n",
    "첫째 줄에 정렬하려고 하는 수 N이 주어진다. N은 1,000,000,000보다 작거나 같은 자연수이다.\n",
    "\n",
    "출력\n",
    "첫째 줄에 자리수를 내림차순으로 정렬한 수를 출력한다.\n",
    "\n",
    "예제 입력 1 \n",
    "2143\n",
    "예제 출력 1 \n",
    "4321\n",
    "예제 입력 2 \n",
    "999998999\n",
    "예제 출력 2 \n",
    "999999998\n",
    "예제 입력 3 \n",
    "61423\n",
    "예제 출력 3 \n",
    "64321\n",
    "예제 입력 4 \n",
    "500613009\n",
    "예제 출력 4 \n",
    "965310000"
   ]
  },
  {
   "cell_type": "code",
   "execution_count": 13,
   "metadata": {},
   "outputs": [
    {
     "name": "stdout",
     "output_type": "stream",
     "text": [
      "4321\n"
     ]
    }
   ],
   "source": [
    "# self_solved\n",
    "n = input()\n",
    "n = sorted(n, reverse=True)\n",
    "n = ''.join(n)\n",
    "n = int(n)\n",
    "print(n)"
   ]
  },
  {
   "cell_type": "code",
   "execution_count": 14,
   "metadata": {},
   "outputs": [
    {
     "name": "stdout",
     "output_type": "stream",
     "text": [
      "64321"
     ]
    }
   ],
   "source": [
    "# another_solved\n",
    "n = int(input())\n",
    " \n",
    "li = []\n",
    "for i in str(n):\n",
    "    li.append(int(i))\n",
    "# li = list(map(int,str(n))) 으로 변경가능\n",
    "    \n",
    "li.sort(reverse=True) # 내림차순\n",
    " \n",
    "for i in li:\n",
    "    print(i,end='')"
   ]
  }
 ],
 "metadata": {
  "kernelspec": {
   "display_name": "Python 3.10.4 64-bit (system)",
   "language": "python",
   "name": "python3"
  },
  "language_info": {
   "codemirror_mode": {
    "name": "ipython",
    "version": 3
   },
   "file_extension": ".py",
   "mimetype": "text/x-python",
   "name": "python",
   "nbconvert_exporter": "python",
   "pygments_lexer": "ipython3",
   "version": "3.10.4"
  },
  "orig_nbformat": 4,
  "vscode": {
   "interpreter": {
    "hash": "6691eef47261d3f02471c5b7ec73937db1e22664dacd3534bae89dc3e4a68232"
   }
  }
 },
 "nbformat": 4,
 "nbformat_minor": 2
}
