{
 "cells": [
  {
   "cell_type": "markdown",
   "metadata": {},
   "source": [
    "# 윷놀이"
   ]
  },
  {
   "cell_type": "code",
   "execution_count": null,
   "metadata": {},
   "outputs": [],
   "source": [
    "윷놀이\n",
    "시간 제한\t메모리 제한\t제출\t정답\t맞힌 사람\t정답 비율\n",
    "1 초\t128 MB\t30307\t17301\t15144\t57.364%\n",
    "\n",
    "문제\n",
    "우리나라 고유의 윷놀이는 네 개의 윷짝을 던져서 배(0)와 등(1)이 나오는 숫자를 세어 도, 개, 걸, 윷, 모를 결정한다. 네 개 윷짝을 던져서 나온 각 윷짝의 배 혹은 등 정보가 주어질 때 도(배 한 개, 등 세 개), 개(배 두 개, 등 두 개), 걸(배 세 개, 등 한 개), 윷(배 네 개), 모(등 네 개) 중 어떤 것인지를 결정하는 프로그램을 작성하라.\n",
    "\n",
    "입력\n",
    "첫째 줄부터 셋째 줄까지 각 줄에 각각 한 번 던진 윷짝들의 상태를 나타내는 네 개의 정수(0 또는 1)가 빈칸을 사이에 두고 주어진다.\n",
    "\n",
    "출력\n",
    "첫째 줄부터 셋째 줄까지 한 줄에 하나씩 결과를 도는 A, 개는 B, 걸은 C, 윷은 D, 모는 E로 출력한다.\n",
    "\n",
    "예제 입력 1 \n",
    "0 1 0 1\n",
    "1 1 1 0\n",
    "0 0 1 1\n",
    "예제 출력 1 \n",
    "B\n",
    "A\n",
    "B"
   ]
  },
  {
   "cell_type": "code",
   "execution_count": 16,
   "metadata": {},
   "outputs": [
    {
     "name": "stdout",
     "output_type": "stream",
     "text": [
      "B\n",
      "A\n",
      "B\n"
     ]
    }
   ],
   "source": [
    "# self_solved\n",
    "for _ in range(3):\n",
    "    nlist = list(map(int, input().split()))\n",
    "    sum_nlist = sum(nlist)\n",
    "    if sum_nlist == 0:\n",
    "        print(\"D\")\n",
    "    elif sum_nlist == 1:\n",
    "        print(\"C\")\n",
    "    elif sum_nlist == 2:\n",
    "        print(\"B\")\n",
    "    elif sum_nlist == 3:\n",
    "        print(\"A\")\n",
    "    elif sum_nlist == 4:\n",
    "        print(\"E\")\n",
    "    del nlist"
   ]
  },
  {
   "cell_type": "code",
   "execution_count": 17,
   "metadata": {},
   "outputs": [
    {
     "name": "stdout",
     "output_type": "stream",
     "text": [
      "B\n",
      "A\n",
      "B\n"
     ]
    }
   ],
   "source": [
    "# another_solved\n",
    "def playing_yut(yuts):\n",
    "    yut_rule = [\"D\", \"C\", \"B\", \"A\", \"E\"]\n",
    "    \n",
    "    yut_info = sum(yuts)\n",
    "    \n",
    "    return yut_rule[yut_info]\n",
    "\n",
    "if __name__ == \"__main__\":\n",
    "    for i in range(3):\n",
    "        yuts = list(map(int, input().split()))\n",
    "        print(playing_yut(yuts))"
   ]
  }
 ],
 "metadata": {
  "kernelspec": {
   "display_name": "Python 3.10.4 64-bit (system)",
   "language": "python",
   "name": "python3"
  },
  "language_info": {
   "codemirror_mode": {
    "name": "ipython",
    "version": 3
   },
   "file_extension": ".py",
   "mimetype": "text/x-python",
   "name": "python",
   "nbconvert_exporter": "python",
   "pygments_lexer": "ipython3",
   "version": "3.10.4"
  },
  "orig_nbformat": 4,
  "vscode": {
   "interpreter": {
    "hash": "6691eef47261d3f02471c5b7ec73937db1e22664dacd3534bae89dc3e4a68232"
   }
  }
 },
 "nbformat": 4,
 "nbformat_minor": 2
}
