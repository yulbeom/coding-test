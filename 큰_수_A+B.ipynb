{
  "nbformat": 4,
  "nbformat_minor": 0,
  "metadata": {
    "colab": {
      "provenance": [],
      "collapsed_sections": [],
      "authorship_tag": "ABX9TyNbvRnbY2eLvzyOl/aA6auu",
      "include_colab_link": true
    },
    "kernelspec": {
      "name": "python3",
      "display_name": "Python 3"
    },
    "language_info": {
      "name": "python"
    }
  },
  "cells": [
    {
      "cell_type": "markdown",
      "metadata": {
        "id": "view-in-github",
        "colab_type": "text"
      },
      "source": [
        "<a href=\"https://colab.research.google.com/github/yulbeom/coding-test/blob/main/%ED%81%B0_%EC%88%98_A%2BB.ipynb\" target=\"_parent\"><img src=\"https://colab.research.google.com/assets/colab-badge.svg\" alt=\"Open In Colab\"/></a>"
      ]
    },
    {
      "cell_type": "markdown",
      "source": [
        "# 큰 수 A+B"
      ],
      "metadata": {
        "id": "a5PNVjn9AV__"
      }
    },
    {
      "cell_type": "markdown",
      "source": [
        "##### 문제\n",
        "##### 두 정수 A와 B를 입력받은 다음, A+B를 출력하는 \n",
        "##### 프로그램을 작성하시오.\n",
        "\n",
        "##### 입력\n",
        "##### 첫째 줄에 A와 B가 주어진다. (0 < A,B < 1010000)\n",
        "\n",
        "##### 출력\n",
        "##### 첫째 줄에 A+B를 출력한다.\n",
        "\n",
        "##### 예제 입력 1 \n",
        "##### 9223372036854775807 9223372036854775808\n",
        "##### 예제 출력 1 \n",
        "##### 18446744073709551615"
      ],
      "metadata": {
        "id": "Et0uNZeNAdMr"
      }
    },
    {
      "cell_type": "code",
      "source": [
        "# self_solved\n",
        "a, b = map(int, input().split())\n",
        "print(a+b)"
      ],
      "metadata": {
        "id": "cqwF2CXqAFAb"
      },
      "execution_count": null,
      "outputs": []
    },
    {
      "cell_type": "code",
      "execution_count": null,
      "metadata": {
        "id": "vq6UjmgS_qig"
      },
      "outputs": [],
      "source": [
        "# another_solved\n",
        "print(sum(map(int,input().split())))"
      ]
    }
  ]
}