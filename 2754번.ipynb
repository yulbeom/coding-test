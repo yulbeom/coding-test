{
 "cells": [
  {
   "cell_type": "markdown",
   "metadata": {},
   "source": [
    "# 학점계산"
   ]
  },
  {
   "cell_type": "markdown",
   "metadata": {},
   "source": [
    "문제\n",
    "어떤 사람의 C언어 성적이 주어졌을 때, 평점은 몇 점인지 출력하는 프로그램을 작성하시오.\n",
    "\n",
    "A+: 4.3, A0: 4.0, A-: 3.7\n",
    "\n",
    "B+: 3.3, B0: 3.0, B-: 2.7\n",
    "\n",
    "C+: 2.3, C0: 2.0, C-: 1.7\n",
    "\n",
    "D+: 1.3, D0: 1.0, D-: 0.7\n",
    "\n",
    "F: 0.0\n",
    "\n",
    "입력\n",
    "첫째 줄에 C언어 성적이 주어진다. 성적은 문제에서 설명한 13가지 중 하나이다.\n",
    "\n",
    "출력\n",
    "첫째 줄에 C언어 평점을 출력한다.\n",
    "\n",
    "예제 입력 1 \n",
    "A0\n",
    "예제 출력 1 \n",
    "4.0"
   ]
  },
  {
   "cell_type": "code",
   "execution_count": 3,
   "metadata": {},
   "outputs": [
    {
     "name": "stdout",
     "output_type": "stream",
     "text": [
      "4.0\n"
     ]
    }
   ],
   "source": [
    "# self_solved\n",
    "score = input()\n",
    "\n",
    "score_dic = {'A+': 4.3, 'A0': 4.0, 'A-': 3.7,\n",
    "             'B+': 3.3, 'B0': 3.0, 'B-': 2.7,\n",
    "             'C+': 2.3, 'C0': 2.0, 'C-': 1.7,\n",
    "             'D+': 1.3, 'D0': 1.0, 'D-': 0.7,\n",
    "             'F': 0.0\n",
    "             }\n",
    "\n",
    "print(score_dic[score])"
   ]
  }
 ],
 "metadata": {
  "kernelspec": {
   "display_name": "Python 3.10.4 64-bit (system)",
   "language": "python",
   "name": "python3"
  },
  "language_info": {
   "codemirror_mode": {
    "name": "ipython",
    "version": 3
   },
   "file_extension": ".py",
   "mimetype": "text/x-python",
   "name": "python",
   "nbconvert_exporter": "python",
   "pygments_lexer": "ipython3",
   "version": "3.10.4"
  },
  "orig_nbformat": 4,
  "vscode": {
   "interpreter": {
    "hash": "6691eef47261d3f02471c5b7ec73937db1e22664dacd3534bae89dc3e4a68232"
   }
  }
 },
 "nbformat": 4,
 "nbformat_minor": 2
}
