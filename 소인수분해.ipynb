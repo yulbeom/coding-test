{
  "nbformat": 4,
  "nbformat_minor": 0,
  "metadata": {
    "colab": {
      "provenance": [],
      "collapsed_sections": [],
      "authorship_tag": "ABX9TyMnRPkFcseseZgJV96SsSV/",
      "include_colab_link": true
    },
    "kernelspec": {
      "name": "python3",
      "display_name": "Python 3"
    },
    "language_info": {
      "name": "python"
    }
  },
  "cells": [
    {
      "cell_type": "markdown",
      "metadata": {
        "id": "view-in-github",
        "colab_type": "text"
      },
      "source": [
        "<a href=\"https://colab.research.google.com/github/yulbeom/coding-test/blob/main/%EC%86%8C%EC%9D%B8%EC%88%98%EB%B6%84%ED%95%B4.ipynb\" target=\"_parent\"><img src=\"https://colab.research.google.com/assets/colab-badge.svg\" alt=\"Open In Colab\"/></a>"
      ]
    },
    {
      "cell_type": "markdown",
      "source": [
        "# 소인수분해"
      ],
      "metadata": {
        "id": "M2NOl2Lsh258"
      }
    },
    {
      "cell_type": "code",
      "source": [
        "문제\n",
        "정수 N이 주어졌을 때, 소인수분해하는 프로그램을 작성하시오.\n",
        "\n",
        "입력\n",
        "첫째 줄에 정수 N (1 ≤ N ≤ 10,000,000)이 주어진다.\n",
        "\n",
        "출력\n",
        "N의 소인수분해 결과를 한 줄에 하나씩 오름차순으로 출력한다. N이 1인 경우 아무것도 출력하지 않는다.\n",
        "\n",
        "예제 입력 1 \n",
        "72\n",
        "예제 출력 1 \n",
        "2\n",
        "2\n",
        "2\n",
        "3\n",
        "3\n",
        "예제 입력 2 \n",
        "3\n",
        "예제 출력 2 \n",
        "3\n",
        "예제 입력 3 \n",
        "6\n",
        "예제 출력 3 \n",
        "2\n",
        "3\n",
        "예제 입력 4 \n",
        "2\n",
        "예제 출력 4 \n",
        "2\n",
        "예제 입력 5 \n",
        "9991\n",
        "예제 출력 5 \n",
        "97\n",
        "103"
      ],
      "metadata": {
        "id": "PqYEI9fIh5MM"
      },
      "execution_count": null,
      "outputs": []
    },
    {
      "cell_type": "code",
      "execution_count": null,
      "metadata": {
        "id": "Ux9zM6qKfwN5"
      },
      "outputs": [],
      "source": [
        "N = int(input())\n",
        "m = 2\n",
        "while N!=1:  \n",
        "  if N%m==0: \n",
        "    print(m) \n",
        "    N = N//m\n",
        "  else:\n",
        "    m += 1"
      ]
    }
  ]
}