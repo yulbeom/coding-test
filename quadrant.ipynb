{
 "cells": [
  {
   "cell_type": "markdown",
   "metadata": {},
   "source": [
    "### 문제\n",
    "##### 2차원 좌표 상의 여러 점의 좌표 (x,y)가 주어졌을 때, 각 사분면과 축에 점이 몇 개 있는지 구하는 프로그램을 작성하시오.\n",
    "\n",
    "\n",
    "\n",
    "### 입력\n",
    "##### 첫째 줄에 점의 개수 n (1 ≤ n ≤ 1000)이 주어진다. 다음 n개 줄에는 점의 좌표 (xi, yi)가 주어진다. (-106 ≤ xi, yi ≤ 106)\n",
    "\n",
    "### 출력\n",
    "##### 각 사분면과 축에 점이 몇 개 있는지를 예제 출력과 같은 형식으로 출력한다.\n",
    "\n",
    "### 예제 입력 1 \n",
    "##### 5\n",
    "##### 0 0\n",
    "##### 0 1\n",
    "##### 1 1\n",
    "##### 3 -3\n",
    "##### 2 2\n",
    "### 예제 출력 1 \n",
    "##### Q1: 2\n",
    "##### Q2: 0\n",
    "##### Q3: 0\n",
    "##### Q4: 1\n",
    "##### AXIS: 2"
   ]
  },
  {
   "cell_type": "code",
   "execution_count": 9,
   "metadata": {},
   "outputs": [
    {
     "name": "stdout",
     "output_type": "stream",
     "text": [
      "Q1: 2\n",
      "Q2: 0\n",
      "Q3: 0\n",
      "Q4: 1\n",
      "AXIS: 2\n"
     ]
    }
   ],
   "source": [
    "# self_solved\n",
    "n = int(input())\n",
    "nlist = []\n",
    "Q1 = 0\n",
    "Q2 = 0\n",
    "Q3 = 0\n",
    "Q4 = 0\n",
    "axis = 0\n",
    "\n",
    "for _ in range(n):\n",
    "    a, b = map(int, input().split())\n",
    "\n",
    "    if a > 0 and b > 0:\n",
    "        Q1 += 1\n",
    "\n",
    "    elif a < 0 and b > 0:\n",
    "        Q2 += 1\n",
    "\n",
    "    elif a < 0 and b < 0:\n",
    "        Q3 += 1\n",
    "\n",
    "    elif a == 0 or b == 0:\n",
    "        axis += 1\n",
    "    \n",
    "    else:\n",
    "        Q4 += 1\n",
    "\n",
    "print(\"Q1: {}\".format(Q1))\n",
    "print(\"Q2: {}\".format(Q2))\n",
    "print(\"Q3: {}\".format(Q3))\n",
    "print(\"Q4: {}\".format(Q4))\n",
    "print(\"AXIS: {}\".format(axis))"
   ]
  }
 ],
 "metadata": {
  "kernelspec": {
   "display_name": "Python 3.9.12 ('ai71')",
   "language": "python",
   "name": "python3"
  },
  "language_info": {
   "codemirror_mode": {
    "name": "ipython",
    "version": 3
   },
   "file_extension": ".py",
   "mimetype": "text/x-python",
   "name": "python",
   "nbconvert_exporter": "python",
   "pygments_lexer": "ipython3",
   "version": "3.9.12"
  },
  "orig_nbformat": 4,
  "vscode": {
   "interpreter": {
    "hash": "5fc38adfa9a9af8a3822bf6098da71de9f021365d9f4f32a7d4ecf83af9c9f72"
   }
  }
 },
 "nbformat": 4,
 "nbformat_minor": 2
}
