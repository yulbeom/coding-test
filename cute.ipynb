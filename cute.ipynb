{
 "cells": [
  {
   "cell_type": "markdown",
   "metadata": {},
   "source": [
    "### 문제\n",
    "##### 준희는 자기가 팀에서 귀여움을 담당하고 있다고 생각한다. 하지만 연수가 볼 때 그 의견은 뭔가 좀 잘못된 것 같았다. 그렇기에 설문조사를 하여 준희가 귀여운지 아닌지 알아보기로 했다.\n",
    "\n",
    "### 입력\n",
    "##### 첫 번째 줄에 설문조사를 한 사람의 수 N (1 ≤ N ≤ 101, N은 홀수)가 주어진다.\n",
    "\n",
    "##### 다음 N개의 줄에는 각 줄마다 각 사람이 설문 조사에 어떤 의견을 표명했는지를 나타내는 정수가 주어진다. 0은 준희가 귀엽지 않다고 했다는 뜻이고, 1은 준희가 귀엽다고 했다는 뜻이다.\n",
    "\n",
    "### 출력\n",
    "##### 준희가 귀엽지 않다는 의견이 더 많을 경우 \"Junhee is not cute!\"를 출력하고 귀엽다는 의견이 많을 경우 \"Junhee is cute!\"를 출력하라.\n",
    "\n",
    "### 예제 입력 1 \n",
    "##### 3\n",
    "##### 1\n",
    "##### 0\n",
    "##### 0\n",
    "\n",
    "### 예제 출력 1 \n",
    "##### Junhee is not cute!\n",
    "### 힌트\n",
    "##### 팀 내에서 설문조사를 진행하면 아마 위와 같은 결과를 얻게 될 것이다."
   ]
  },
  {
   "cell_type": "code",
   "execution_count": 9,
   "metadata": {},
   "outputs": [
    {
     "name": "stdout",
     "output_type": "stream",
     "text": [
      "Junhee is not cute!\n"
     ]
    }
   ],
   "source": [
    "# self_solved => wrong\n",
    "n = int(input())\n",
    "nlist = []\n",
    "\n",
    "for _ in range(n):\n",
    "    a = int(input())\n",
    "    nlist.append(a)\n",
    "\n",
    "# b = nlist.count(1)\n",
    "\n",
    "if nlist.count(1) >= 2:\n",
    "    print(\"Junhee is cute!\")\n",
    "\n",
    "else:\n",
    "    print(\"Junhee is not cute!\")"
   ]
  },
  {
   "cell_type": "code",
   "execution_count": 2,
   "metadata": {},
   "outputs": [
    {
     "name": "stdout",
     "output_type": "stream",
     "text": [
      "Junhee is not cute!\n"
     ]
    }
   ],
   "source": [
    "# self_solved_2 => wrong\n",
    "n = int(input())\n",
    "nlist = []\n",
    "\n",
    "for _ in range(n):\n",
    "    a = int(input())\n",
    "    nlist.append(a)\n",
    "\n",
    "if sum(nlist) >= 2:\n",
    "    print(\"Junhee is cute!\")\n",
    "\n",
    "else:\n",
    "    print(\"Junhee is not cute!\")"
   ]
  },
  {
   "cell_type": "code",
   "execution_count": 8,
   "metadata": {},
   "outputs": [
    {
     "name": "stdout",
     "output_type": "stream",
     "text": [
      "Junhee is not cute!\n"
     ]
    }
   ],
   "source": [
    "# another_solved\n",
    "N = int(input())\n",
    "cute = not_cute = 0\n",
    "for i in range(N):\n",
    "    if int(input()) == 1:\n",
    "        cute += 1\n",
    "    else:\n",
    "        not_cute += 1\n",
    "print(\"Junhee is cute!\" if cute > not_cute else \"Junhee is not cute!\")"
   ]
  }
 ],
 "metadata": {
  "kernelspec": {
   "display_name": "Python 3.10.4 64-bit",
   "language": "python",
   "name": "python3"
  },
  "language_info": {
   "codemirror_mode": {
    "name": "ipython",
    "version": 3
   },
   "file_extension": ".py",
   "mimetype": "text/x-python",
   "name": "python",
   "nbconvert_exporter": "python",
   "pygments_lexer": "ipython3",
   "version": "3.10.4"
  },
  "orig_nbformat": 4,
  "vscode": {
   "interpreter": {
    "hash": "6691eef47261d3f02471c5b7ec73937db1e22664dacd3534bae89dc3e4a68232"
   }
  }
 },
 "nbformat": 4,
 "nbformat_minor": 2
}
