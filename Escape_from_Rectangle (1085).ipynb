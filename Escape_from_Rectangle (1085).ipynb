{
 "cells": [
  {
   "cell_type": "markdown",
   "metadata": {},
   "source": [
    "# 직사각형에서 탈출"
   ]
  },
  {
   "cell_type": "code",
   "execution_count": null,
   "metadata": {},
   "outputs": [],
   "source": [
    "문제\n",
    "한수는 지금 (x, y)에 있다. 직사각형은 각 변이 좌표축에 평행하고, 왼쪽 아래 꼭짓점은 (0, 0), 오른쪽 위 꼭짓점은 (w, h)에 있다. 직사각형의 경계선까지 가는 거리의 최솟값을 구하는 프로그램을 작성하시오.\n",
    "\n",
    "입력\n",
    "첫째 줄에 x, y, w, h가 주어진다.\n",
    "\n",
    "출력\n",
    "첫째 줄에 문제의 정답을 출력한다.\n",
    "\n",
    "제한\n",
    "1 ≤ w, h ≤ 1,000\n",
    "1 ≤ x ≤ w-1\n",
    "1 ≤ y ≤ h-1\n",
    "x, y, w, h는 정수\n",
    "예제 입력 1 \n",
    "6 2 10 3\n",
    "예제 출력 1 \n",
    "1\n",
    "예제 입력 2 \n",
    "1 1 5 5\n",
    "예제 출력 2 \n",
    "1\n",
    "예제 입력 3 \n",
    "653 375 1000 1000\n",
    "예제 출력 3 \n",
    "347\n",
    "예제 입력 4 \n",
    "161 181 762 375\n",
    "예제 출력 4 \n",
    "161"
   ]
  },
  {
   "cell_type": "code",
   "execution_count": 5,
   "metadata": {},
   "outputs": [
    {
     "name": "stdout",
     "output_type": "stream",
     "text": [
      "161\n"
     ]
    }
   ],
   "source": [
    "# self_solved\n",
    "x, y, w, h = map(int, input().split())\n",
    "if w-x > x:\n",
    "    if h-y > y:\n",
    "        if x > y:\n",
    "            print(y)\n",
    "        else:\n",
    "            print(x)\n",
    "    else:\n",
    "        if x > h-y :\n",
    "            print(h-y)\n",
    "        else:\n",
    "            print(x)\n",
    "        \n",
    "else:\n",
    "    if h-y > y:\n",
    "        if w-x > y:\n",
    "            print(y)\n",
    "        else:\n",
    "            print(w-x)\n",
    "    else:\n",
    "        if w-x > h-y:\n",
    "            print(h-y)\n",
    "        else:\n",
    "            print(w-x)"
   ]
  },
  {
   "cell_type": "code",
   "execution_count": 6,
   "metadata": {},
   "outputs": [
    {
     "name": "stdout",
     "output_type": "stream",
     "text": [
      "161\n"
     ]
    }
   ],
   "source": [
    "# another_solved\n",
    "x, y, w, h = map(int, input().split())\n",
    "print(min(x, y, w-x, h-y))"
   ]
  }
 ],
 "metadata": {
  "kernelspec": {
   "display_name": "Python 3.10.4 64-bit (system)",
   "language": "python",
   "name": "python3"
  },
  "language_info": {
   "codemirror_mode": {
    "name": "ipython",
    "version": 3
   },
   "file_extension": ".py",
   "mimetype": "text/x-python",
   "name": "python",
   "nbconvert_exporter": "python",
   "pygments_lexer": "ipython3",
   "version": "3.10.4"
  },
  "orig_nbformat": 4,
  "vscode": {
   "interpreter": {
    "hash": "6691eef47261d3f02471c5b7ec73937db1e22664dacd3534bae89dc3e4a68232"
   }
  }
 },
 "nbformat": 4,
 "nbformat_minor": 2
}
