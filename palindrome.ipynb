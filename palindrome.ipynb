{
 "cells": [
  {
   "cell_type": "markdown",
   "metadata": {},
   "source": [
    "### 문제\n",
    "##### 알파벳 소문자로만 이루어진 단어가 주어진다. 이때, 이 단어가 팰린드롬인지 아닌지 확인하는 프로그램을 작성하시오. 팰린드롬이란 앞으로 읽을 때와 거꾸로 읽을 때 똑같은 단어를 말한다. level, noon은 팰린드롬이고, baekjoon, online, judge는 팰린드롬이 아니다.\n",
    "### 입력\n",
    "##### 첫째 줄에 단어가 주어진다. 단어의 길이는 1보다 크거나 같고, 100보다 작거나 같으며, 알파벳 소문자로만 이루어져 있다.\n",
    "### 출력\n",
    "#####  첫째 줄에 팰린드롬이면 1, 아니면 0을 출력한다.\n",
    "### 예제 입력 1 \n",
    "##### level\n",
    "### 예제 출력 1 \n",
    "##### 1\n",
    "### 예제 입력 2 \n",
    "##### baekjoon\n",
    "### 예제 출력 2 \n",
    "##### 0"
   ]
  },
  {
   "cell_type": "code",
   "execution_count": 5,
   "metadata": {},
   "outputs": [
    {
     "name": "stdout",
     "output_type": "stream",
     "text": [
      "1\n"
     ]
    }
   ],
   "source": [
    "# self_solved\n",
    "str = input()\n",
    "reversed_str = \"\".join(reversed(str))\n",
    "\n",
    "if str == reversed_str:\n",
    "    print(1)\n",
    "else:\n",
    "    print(0)"
   ]
  }
 ],
 "metadata": {
  "kernelspec": {
   "display_name": "Python 3.9.12 ('ai71')",
   "language": "python",
   "name": "python3"
  },
  "language_info": {
   "codemirror_mode": {
    "name": "ipython",
    "version": 3
   },
   "file_extension": ".py",
   "mimetype": "text/x-python",
   "name": "python",
   "nbconvert_exporter": "python",
   "pygments_lexer": "ipython3",
   "version": "3.9.12"
  },
  "orig_nbformat": 4,
  "vscode": {
   "interpreter": {
    "hash": "5fc38adfa9a9af8a3822bf6098da71de9f021365d9f4f32a7d4ecf83af9c9f72"
   }
  }
 },
 "nbformat": 4,
 "nbformat_minor": 2
}
