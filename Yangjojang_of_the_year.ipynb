{
 "cells": [
  {
   "cell_type": "markdown",
   "metadata": {},
   "source": [
    "### 문제\n",
    "##### 입학 OT때 누구보다도 남다르게 놀았던 당신은 자연스럽게 1학년 과대를 역임하게 되었다. 타교와의 조인트 엠티를 기획하려는 당신은 근처에 있는 학교 중 어느 학교가 술을 가장 많이 먹는지 궁금해졌다. 학교별로 한 해동안 술 소비량이 주어질 때, 가장 술 소비가 많은 학교 이름을 출력하여라.\n",
    "\n",
    "### 입력\n",
    "##### 입력의 첫 줄에는 테스트 케이스의 숫자 T가 주어진다. 매 입력의 첫 줄에는 학교의 숫자 정수 N(1 ≤ N ≤ 100)이 주어진다. 이어서 N줄에 걸쳐 학교 이름 S(1 ≤ |S| ≤ 20, S는 공백없는 대소문자 알파벳 문자열)와 해당 학교가 지난 한 해동안 소비한 술의 양 L(0 ≤ L ≤ 10,000,000)이 공백으로 구분되어 정수로 주어진다. 같은 테스트 케이스 안에서 소비한 술의 양이 같은 학교는 없다고 가정한다.\n",
    "\n",
    "### 출력\n",
    "##### 각 테스트 케이스마다 한 줄에 걸쳐 술 소비가 가장 많은 학교의 이름을 출력한다.\n",
    "\n",
    "### 예제 입력 1 \n",
    "##### 2\n",
    "##### 3\n",
    "##### Yonsei 10\n",
    "##### Korea 10000000\n",
    "##### Ewha 20\n",
    "##### 2\n",
    "##### Yonsei 1\n",
    "##### Korea 10000000\n",
    "### 예제 출력 1 \n",
    "##### Korea\n",
    "##### Korea"
   ]
  },
  {
   "cell_type": "code",
   "execution_count": 10,
   "metadata": {},
   "outputs": [
    {
     "name": "stdout",
     "output_type": "stream",
     "text": [
      "Korea\n",
      "Korea\n"
     ]
    }
   ],
   "source": [
    "# self_solved\n",
    "t = int(input())\n",
    "for _ in range(t):\n",
    "    n = int(input())\n",
    "    s_list = []\n",
    "    l_list = []\n",
    "    \n",
    "    for _ in range(n):\n",
    "        s, l = input().split()\n",
    "        s_list.append(s)\n",
    "        l_list.append(int(l))\n",
    "    \n",
    "    id = l_list.index(max(l_list))\n",
    "    print(s_list[id])"
   ]
  },
  {
   "cell_type": "code",
   "execution_count": 13,
   "metadata": {},
   "outputs": [
    {
     "name": "stdout",
     "output_type": "stream",
     "text": [
      "Korea\n",
      "Korea\n"
     ]
    }
   ],
   "source": [
    "# another_solved_1\n",
    "t = int(input())\n",
    "for _ in range(t):\n",
    "    n = int(input())\n",
    "    dic = {}\n",
    "    for _ in range(n):\n",
    "        s, l = input().split()\n",
    "        dic[s] = int(l)\n",
    "    \n",
    "    for k, v in dic.items():\n",
    "        if max(dic.values()) == v:\n",
    "            print(k)"
   ]
  },
  {
   "cell_type": "code",
   "execution_count": 16,
   "metadata": {},
   "outputs": [
    {
     "name": "stdout",
     "output_type": "stream",
     "text": [
      "Korea\n",
      "Korea\n"
     ]
    }
   ],
   "source": [
    "# another_solved_2\n",
    "t = int(input())\n",
    "for _ in range(t):\n",
    "    n = int(input())\n",
    "    dic = {}\n",
    "    for _ in range(n):\n",
    "        s, l = input().split()\n",
    "        dic[s] = int(l)\n",
    "    \n",
    "    print(max(dic, key=dic.get))"
   ]
  }
 ],
 "metadata": {
  "kernelspec": {
   "display_name": "Python 3.9.12 ('ai71')",
   "language": "python",
   "name": "python3"
  },
  "language_info": {
   "codemirror_mode": {
    "name": "ipython",
    "version": 3
   },
   "file_extension": ".py",
   "mimetype": "text/x-python",
   "name": "python",
   "nbconvert_exporter": "python",
   "pygments_lexer": "ipython3",
   "version": "3.9.12"
  },
  "orig_nbformat": 4,
  "vscode": {
   "interpreter": {
    "hash": "5fc38adfa9a9af8a3822bf6098da71de9f021365d9f4f32a7d4ecf83af9c9f72"
   }
  }
 },
 "nbformat": 4,
 "nbformat_minor": 2
}
