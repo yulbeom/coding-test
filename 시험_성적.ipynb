{
  "nbformat": 4,
  "nbformat_minor": 0,
  "metadata": {
    "colab": {
      "provenance": [],
      "collapsed_sections": [],
      "authorship_tag": "ABX9TyNjbJIcq735j3PLMjC+CQK3",
      "include_colab_link": true
    },
    "kernelspec": {
      "name": "python3",
      "display_name": "Python 3"
    },
    "language_info": {
      "name": "python"
    }
  },
  "cells": [
    {
      "cell_type": "markdown",
      "metadata": {
        "id": "view-in-github",
        "colab_type": "text"
      },
      "source": [
        "<a href=\"https://colab.research.google.com/github/yulbeom/coding-test/blob/main/%EC%8B%9C%ED%97%98_%EC%84%B1%EC%A0%81.ipynb\" target=\"_parent\"><img src=\"https://colab.research.google.com/assets/colab-badge.svg\" alt=\"Open In Colab\"/></a>"
      ]
    },
    {
      "cell_type": "markdown",
      "source": [
        "# 시험 성적"
      ],
      "metadata": {
        "id": "-e4jherVS0LB"
      }
    },
    {
      "cell_type": "code",
      "source": [
        "문제\n",
        "시험 점수를 입력받아 90 ~ 100점은 A, 80 ~ 89점은 B, 70 ~ 79점은 C, 60 ~ 69점은 D, 나머지 점수는 F를 출력하는 프로그램을 작성하시오.\n",
        "\n",
        "입력\n",
        "첫째 줄에 시험 점수가 주어진다. 시험 점수는 0보다 크거나 같고, 100보다 작거나 같은 정수이다.\n",
        "\n",
        "출력\n",
        "시험 성적을 출력한다.\n",
        "\n",
        "예제 입력 1 \n",
        "100\n",
        "예제 출력 1 \n",
        "A"
      ],
      "metadata": {
        "id": "g7f8yYJxWcqa"
      },
      "execution_count": null,
      "outputs": []
    },
    {
      "cell_type": "code",
      "source": [
        "t = int(input())\n",
        "\n",
        "if 90 <= t <= 100:\n",
        "  print('A')\n",
        "\n",
        "elif 80 <= t <= 89: \n",
        "  print('B')\n",
        "\n",
        "elif 70 <= t <= 79: \n",
        "  print('C')\n",
        "\n",
        "elif 60 <= t <= 69: \n",
        "  print('D')\n",
        "\n",
        "else:\n",
        "  print('F')"
      ],
      "metadata": {
        "colab": {
          "base_uri": "https://localhost:8080/"
        },
        "id": "vTCaIwosS2wq",
        "outputId": "993a7893-6192-4aed-d07c-a541dc271aba"
      },
      "execution_count": null,
      "outputs": [
        {
          "output_type": "stream",
          "name": "stdout",
          "text": [
            "100\n",
            "A\n"
          ]
        }
      ]
    }
  ]
}