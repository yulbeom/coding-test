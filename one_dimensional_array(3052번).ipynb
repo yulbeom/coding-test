{
 "cells": [
  {
   "cell_type": "code",
   "execution_count": null,
   "metadata": {},
   "outputs": [],
   "source": [
    "# 문제\n",
    "# 두 자연수 A와 B가 있을 때, A%B는 A를 B로 나눈 나머지 이다. 예를 들어, 7, 14, 27, 38을 3으로 나눈 나머지는 1, 2, 0, 2이다. \n",
    "\n",
    "# 수 10개를 입력받은 뒤, 이를 42로 나눈 나머지를 구한다. 그 다음 서로 다른 값이 몇 개 있는지 출력하는 프로그램을 작성하시오.\n",
    "\n",
    "# 입력\n",
    "# 첫째 줄부터 열번째 줄 까지 숫자가 한 줄에 하나씩 주어진다. 이 숫자는 1,000보다 작거나 같고, 음이 아닌 정수이다.\n",
    "\n",
    "# 출력\n",
    "# 첫째 줄에, 42로 나누었을 때, 서로 다른 나머지가 몇 개 있는지 출력한다.\n",
    "\n",
    "# 예제 입력 1 \n",
    "# 1\n",
    "# 2\n",
    "# 3\n",
    "# 4\n",
    "# 5\n",
    "# 6\n",
    "# 7\n",
    "# 8\n",
    "# 9\n",
    "# 10\n",
    "# 예제 출력 1 \n",
    "# 10\n",
    "# 각 수를 42로 나눈 나머지는 1, 2, 3, 4, 5, 6, 7, 8, 9, 10이다.\n",
    "\n",
    "# 예제 입력 2 \n",
    "# 42\n",
    "# 84\n",
    "# 252\n",
    "# 420\n",
    "# 840\n",
    "# 126\n",
    "# 42\n",
    "# 84\n",
    "# 420\n",
    "# 126\n",
    "# 예제 출력 2 \n",
    "# 1\n",
    "# 모든 수를 42로 나눈 나머지는 0이다.\n",
    "\n",
    "# 예제 입력 3 \n",
    "# 39\n",
    "# 40\n",
    "# 41\n",
    "# 42\n",
    "# 43\n",
    "# 44\n",
    "# 82\n",
    "# 83\n",
    "# 84\n",
    "# 85\n",
    "# 예제 출력 3 \n",
    "# 6\n",
    "# 각 수를 42로 나눈 나머지는 39, 40, 41, 0, 1, 2, 40, 41, 0, 1이다. 서로 다른 값은 6개가 있다."
   ]
  },
  {
   "cell_type": "code",
   "execution_count": 5,
   "metadata": {},
   "outputs": [
    {
     "name": "stdout",
     "output_type": "stream",
     "text": [
      "10\n"
     ]
    }
   ],
   "source": [
    "# self_solved\n",
    "set_42 = set()\n",
    "\n",
    "for _ in range(10):\n",
    "    x = int(input())%42\n",
    "    set_42.add(x)\n",
    "\n",
    "nlist = list(set_42)\n",
    "count = len(nlist)\n",
    "print(count)"
   ]
  },
  {
   "cell_type": "code",
   "execution_count": 6,
   "metadata": {},
   "outputs": [
    {
     "name": "stdout",
     "output_type": "stream",
     "text": [
      "10\n"
     ]
    }
   ],
   "source": [
    "# different_solved\n",
    "arr = []\n",
    "\n",
    "for i in range(10):\n",
    "    n = int(input())\n",
    "    arr.append(n % 42)\n",
    "\n",
    "arr = set(arr)\n",
    "print(len(arr))"
   ]
  }
 ],
 "metadata": {
  "kernelspec": {
   "display_name": "Python 3.10.4 64-bit (system)",
   "language": "python",
   "name": "python3"
  },
  "language_info": {
   "codemirror_mode": {
    "name": "ipython",
    "version": 3
   },
   "file_extension": ".py",
   "mimetype": "text/x-python",
   "name": "python",
   "nbconvert_exporter": "python",
   "pygments_lexer": "ipython3",
   "version": "3.10.4"
  },
  "orig_nbformat": 4,
  "vscode": {
   "interpreter": {
    "hash": "6691eef47261d3f02471c5b7ec73937db1e22664dacd3534bae89dc3e4a68232"
   }
  }
 },
 "nbformat": 4,
 "nbformat_minor": 2
}
