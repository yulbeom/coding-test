{
 "cells": [
  {
   "cell_type": "code",
   "execution_count": null,
   "metadata": {},
   "outputs": [],
   "source": [
    "# 문제\n",
    "# 대학생 새내기들의 90%는 자신이 반에서 평균은 넘는다고 생각한다. 당신은 그들에게 슬픈 진실을 알려줘야 한다.\n",
    "\n",
    "# 입력\n",
    "# 첫째 줄에는 테스트 케이스의 개수 C가 주어진다.\n",
    "\n",
    "# 둘째 줄부터 각 테스트 케이스마다 학생의 수 N(1 ≤ N ≤ 1000, N은 정수)이 첫 수로 주어지고, 이어서 N명의 점수가 주어진다. 점수는 0보다 크거나 같고, 100보다 작거나 같은 정수이다.\n",
    "\n",
    "# 출력\n",
    "# 각 케이스마다 한 줄씩 평균을 넘는 학생들의 비율을 반올림하여 소수점 셋째 자리까지 출력한다.\n",
    "\n",
    "# 예제 입력 1 \n",
    "# 5\n",
    "# 5 50 50 70 80 100\n",
    "# 7 100 95 90 80 70 60 50\n",
    "# 3 70 90 80\n",
    "# 3 70 90 81\n",
    "# 9 100 99 98 97 96 95 94 93 91\n",
    "# 예제 출력 1 \n",
    "# 40.000%\n",
    "# 57.143%\n",
    "# 33.333%\n",
    "# 66.667%\n",
    "# 55.556%"
   ]
  },
  {
   "cell_type": "code",
   "execution_count": 11,
   "metadata": {},
   "outputs": [
    {
     "name": "stdout",
     "output_type": "stream",
     "text": [
      "40.000%\n",
      "57.143%\n",
      "33.333%\n",
      "66.667%\n",
      "55.556%\n"
     ]
    }
   ],
   "source": [
    "# self_solved\n",
    "c = int(input())\n",
    "\n",
    "for _ in range(c):  # c_list[0]이라고 그냥 써도 된다 굳이 변수를 또 선언을 할 필요는 없음\n",
    "    c_list = list(map(int, input().split()))\n",
    "    n = c_list[0]\n",
    "    n_list = c_list[1:]\n",
    "    n_average = sum(n_list)/n\n",
    "    count = 0\n",
    "    for i in n_list:\n",
    "        if i > n_average:\n",
    "            count += 1\n",
    "    ratio = (count/n)*100\n",
    "    print(\"{:.3f}%\".format(ratio))\n",
    "\n"
   ]
  },
  {
   "cell_type": "code",
   "execution_count": 14,
   "metadata": {},
   "outputs": [
    {
     "name": "stdout",
     "output_type": "stream",
     "text": [
      "40.000%\n",
      "57.143%\n",
      "33.333%\n",
      "66.667%\n",
      "55.556%\n"
     ]
    }
   ],
   "source": [
    "# another_solved 거의 내 풀이법과 비슷하지만 좀 더 간결하다\n",
    "n = int(input())\n",
    "\n",
    "for _ in range(n):\n",
    "    nums = list(map(int, input().split()))\n",
    "    avg = sum(nums[1:])/nums[0]  # 평균을 구함 (nums[0]: 학생수, nums[1:] 점수)\n",
    "    cnt = 0\n",
    "    for score in nums[1:]:\n",
    "        if score > avg:\n",
    "            cnt += 1  # 평균 이상인 학생 수\n",
    "    rate = cnt/nums[0] * 100\n",
    "    print(f'{rate:.3f}%')"
   ]
  }
 ],
 "metadata": {
  "kernelspec": {
   "display_name": "Python 3.10.4 64-bit (system)",
   "language": "python",
   "name": "python3"
  },
  "language_info": {
   "codemirror_mode": {
    "name": "ipython",
    "version": 3
   },
   "file_extension": ".py",
   "mimetype": "text/x-python",
   "name": "python",
   "nbconvert_exporter": "python",
   "pygments_lexer": "ipython3",
   "version": "3.10.4"
  },
  "orig_nbformat": 4,
  "vscode": {
   "interpreter": {
    "hash": "6691eef47261d3f02471c5b7ec73937db1e22664dacd3534bae89dc3e4a68232"
   }
  }
 },
 "nbformat": 4,
 "nbformat_minor": 2
}
