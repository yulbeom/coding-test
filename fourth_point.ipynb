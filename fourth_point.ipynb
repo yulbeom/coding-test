{
 "cells": [
  {
   "cell_type": "markdown",
   "metadata": {},
   "source": [
    "# 네번째 점\n",
    "##### 문제\n",
    "##### 세 점이 주어졌을 때, 축에 평행한 직사각형을 만들기 위해서 필요한 네 번째 점을 찾는 프로그램을 작성하시오.\n",
    "\n",
    "##### 입력\n",
    "##### 세 점의 좌표가 한 줄에 하나씩 주어진다. 좌표는 1보다 크거나 같고, 1000보다 작거나 같은 정수이다.\n",
    "\n",
    "##### 출력\n",
    "##### 직사각형의 네 번째 점의 좌표를 출력한다.\n",
    "\n",
    "##### 예제 입력 1 \n",
    "##### 5 5\n",
    "##### 5 7\n",
    "##### 7 5\n",
    "##### 예제 출력 1 \n",
    "##### 7 7\n",
    "##### 예제 입력 2 \n",
    "##### 30 20\n",
    "##### 10 10\n",
    "##### 10 20\n",
    "##### 예제 출력 2 \n",
    "##### 30 10 "
   ]
  },
  {
   "cell_type": "code",
   "execution_count": 23,
   "metadata": {},
   "outputs": [
    {
     "name": "stdout",
     "output_type": "stream",
     "text": [
      "30 10\n"
     ]
    }
   ],
   "source": [
    "# self_solved\n",
    "x_list = list()\n",
    "y_list = list()\n",
    "\n",
    "for _ in range(3):\n",
    "    a, b = map(int, input().split())\n",
    "    x_list.append(a)\n",
    "    y_list.append(b)\n",
    "\n",
    "for i in range(3):\n",
    "    if x_list.count(x_list[i]) == 1:\n",
    "        x_4 = x_list[i]\n",
    "    if y_list.count(y_list[i]) == 1:\n",
    "        y_4 = y_list[i]\n",
    "    \n",
    "print(x_4, y_4)"
   ]
  }
 ],
 "metadata": {
  "kernelspec": {
   "display_name": "Python 3.10.4 64-bit",
   "language": "python",
   "name": "python3"
  },
  "language_info": {
   "codemirror_mode": {
    "name": "ipython",
    "version": 3
   },
   "file_extension": ".py",
   "mimetype": "text/x-python",
   "name": "python",
   "nbconvert_exporter": "python",
   "pygments_lexer": "ipython3",
   "version": "3.10.4"
  },
  "orig_nbformat": 4,
  "vscode": {
   "interpreter": {
    "hash": "6691eef47261d3f02471c5b7ec73937db1e22664dacd3534bae89dc3e4a68232"
   }
  }
 },
 "nbformat": 4,
 "nbformat_minor": 2
}
