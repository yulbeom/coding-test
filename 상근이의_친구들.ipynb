{
  "nbformat": 4,
  "nbformat_minor": 0,
  "metadata": {
    "colab": {
      "provenance": [],
      "collapsed_sections": [],
      "authorship_tag": "ABX9TyNtE4yCBWGQqzM8XZ3J2dTh",
      "include_colab_link": true
    },
    "kernelspec": {
      "name": "python3",
      "display_name": "Python 3"
    },
    "language_info": {
      "name": "python"
    }
  },
  "cells": [
    {
      "cell_type": "markdown",
      "metadata": {
        "id": "view-in-github",
        "colab_type": "text"
      },
      "source": [
        "<a href=\"https://colab.research.google.com/github/yulbeom/coding-test/blob/main/%EC%83%81%EA%B7%BC%EC%9D%B4%EC%9D%98_%EC%B9%9C%EA%B5%AC%EB%93%A4.ipynb\" target=\"_parent\"><img src=\"https://colab.research.google.com/assets/colab-badge.svg\" alt=\"Open In Colab\"/></a>"
      ]
    },
    {
      "cell_type": "markdown",
      "source": [
        "# 상근이의 친구들"
      ],
      "metadata": {
        "id": "K1DYonWsBf3Y"
      }
    },
    {
      "cell_type": "markdown",
      "source": [
        "##### 문제\n",
        "##### 상근이의 남자 친구의 수와 여자 친구의 수가  주어졌을 때, 친구는 총 몇 명인지 구하는  프로그램을 작성하시오.\n",
        "\n",
        "##### 입력\n",
        "##### 입력은 여러 개의 테스트 케이스로 이루어져 \n",
        "##### 있다. 각 테스트 케이스는 두 정수 M과 F로  이루어져 있으며, 각각은 상근이의 남자 친구의 수와 여자 친구의 수이다. (1 ≤ M, F ≤ 5)\n",
        "\n",
        "##### 입력의 마지막 줄에는 0이 두 개 주어진다.\n",
        "\n",
        "##### 출력\n",
        "##### 각 테스트 케이스마다 상근이의 친구의 수를 \n",
        "##### 출력한다.\n",
        "\n",
        "##### 예제 입력 1 \n",
        "##### 2 2\n",
        "##### 2 3\n",
        "##### 5 5\n",
        "##### 1 1\n",
        "##### 0 0\n",
        "##### 예제 출력 1 \n",
        "##### 4\n",
        "##### 5\n",
        "##### 10\n",
        "##### 2"
      ],
      "metadata": {
        "id": "IH-XGPHgBi5h"
      }
    },
    {
      "cell_type": "code",
      "execution_count": null,
      "metadata": {
        "colab": {
          "base_uri": "https://localhost:8080/"
        },
        "id": "JFoAS6I9BdCL",
        "outputId": "01322cff-7f4c-49ce-8258-555f2ad4bbb9"
      },
      "outputs": [
        {
          "name": "stdout",
          "output_type": "stream",
          "text": [
            "2 2\n",
            "4\n",
            "2 3\n",
            "5\n",
            "5 5\n",
            "10\n",
            "1 1\n",
            "2\n",
            "0 0\n"
          ]
        }
      ],
      "source": [
        "# self_solved\n",
        "while True:\n",
        "  M, F = map(int, input().split())\n",
        "  \n",
        "  if M == 0 and F == 0:\n",
        "    break\n",
        "  \n",
        "  print(M+F)"
      ]
    }
  ]
}