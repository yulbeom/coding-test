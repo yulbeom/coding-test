{
 "cells": [
  {
   "cell_type": "markdown",
   "metadata": {},
   "source": [
    "# 분산처리"
   ]
  },
  {
   "cell_type": "code",
   "execution_count": 2,
   "metadata": {},
   "outputs": [],
   "source": [
    "문제\n",
    "재용이는 최신 컴퓨터 10대를 가지고 있다. 어느 날 재용이는 많은 데이터를 처리해야 될 일이 생겨서 각 컴퓨터에 1번부터 10번까지의 번호를 부여하고, 10대의 컴퓨터가 다음과 같은 방법으로 데이터들을 처리하기로 하였다.\n",
    "\n",
    "1번 데이터는 1번 컴퓨터, 2번 데이터는 2번 컴퓨터, 3번 데이터는 3번 컴퓨터, ... ,\n",
    "\n",
    "10번 데이터는 10번 컴퓨터, 11번 데이터는 1번 컴퓨터, 12번 데이터는 2번 컴퓨터, ...\n",
    "\n",
    "총 데이터의 개수는 항상 ab개의 형태로 주어진다. 재용이는 문득 마지막 데이터가 처리될 컴퓨터의 번호가 궁금해졌다. 이를 수행해주는 프로그램을 작성하라.\n",
    "\n",
    "입력\n",
    "입력의 첫 줄에는 테스트 케이스의 개수 T가 주어진다. 그 다음 줄부터 각각의 테스트 케이스에 대해 정수 a와 b가 주어진다. (1 ≤ a < 100, 1 ≤ b < 1,000,000)\n",
    "\n",
    "출력\n",
    "각 테스트 케이스에 대해 마지막 데이터가 처리되는 컴퓨터의 번호를 출력한다.\n",
    "\n",
    "예제 입력 1 \n",
    "5\n",
    "1 6\n",
    "3 7\n",
    "6 2\n",
    "7 100\n",
    "9 635\n",
    "예제 출력 1 \n",
    "1\n",
    "7\n",
    "6\n",
    "1\n",
    "9"
   ]
  },
  {
   "cell_type": "code",
   "execution_count": 3,
   "metadata": {},
   "outputs": [
    {
     "name": "stdout",
     "output_type": "stream",
     "text": [
      "1\n",
      "7\n",
      "6\n",
      "1\n",
      "9\n"
     ]
    }
   ],
   "source": [
    "# self_solved\n",
    "t = int(input())\n",
    "\n",
    "for _ in range(t):\n",
    "    a, b = map(int, input().split())\n",
    "    c = a**b\n",
    "    print(str(c)[-1])"
   ]
  },
  {
   "cell_type": "code",
   "execution_count": null,
   "metadata": {},
   "outputs": [],
   "source": [
    "# another_solved\n",
    "import sys \n",
    "\n",
    "input = sys.stdin.readline\n",
    "\n",
    "t = int(input())\n",
    "for _ in range(t):\n",
    "\ta,b = map(int,input().split())\n",
    "\taa=a%10\n",
    "\n",
    "\tif aa == 0: # 패턴 1\n",
    "\t\tprint(10)\n",
    "\telif aa in [1,5,6]: \n",
    "\t\tprint(aa)\n",
    "\telif aa in [4,9]: #패턴 2\n",
    "\t\tbb=b%2\n",
    "\t\tif bb == 0:\n",
    "\t\t\tprint(aa*aa%10)\n",
    "\t\telse:\n",
    "\t\t\tprint(aa)\n",
    "\telse: #패턴 4\n",
    "\t\tbb=b%4  \n",
    "\t\tif bb ==0:\n",
    "\t\t\tprint(aa**4%10)\n",
    "\t\telse:\n",
    "\t\t\tprint(aa**bb%10)"
   ]
  }
 ],
 "metadata": {
  "kernelspec": {
   "display_name": "Python 3.10.4 64-bit (system)",
   "language": "python",
   "name": "python3"
  },
  "language_info": {
   "codemirror_mode": {
    "name": "ipython",
    "version": 3
   },
   "file_extension": ".py",
   "mimetype": "text/x-python",
   "name": "python",
   "nbconvert_exporter": "python",
   "pygments_lexer": "ipython3",
   "version": "3.10.4"
  },
  "orig_nbformat": 4,
  "vscode": {
   "interpreter": {
    "hash": "6691eef47261d3f02471c5b7ec73937db1e22664dacd3534bae89dc3e4a68232"
   }
  }
 },
 "nbformat": 4,
 "nbformat_minor": 2
}
