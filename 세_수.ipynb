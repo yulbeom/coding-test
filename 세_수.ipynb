{
  "nbformat": 4,
  "nbformat_minor": 0,
  "metadata": {
    "colab": {
      "provenance": [],
      "collapsed_sections": [],
      "authorship_tag": "ABX9TyPoB4tIAtEpZnSNWFPRfB/I",
      "include_colab_link": true
    },
    "kernelspec": {
      "name": "python3",
      "display_name": "Python 3"
    },
    "language_info": {
      "name": "python"
    }
  },
  "cells": [
    {
      "cell_type": "markdown",
      "metadata": {
        "id": "view-in-github",
        "colab_type": "text"
      },
      "source": [
        "<a href=\"https://colab.research.google.com/github/yulbeom/coding-test/blob/main/%EC%84%B8_%EC%88%98.ipynb\" target=\"_parent\"><img src=\"https://colab.research.google.com/assets/colab-badge.svg\" alt=\"Open In Colab\"/></a>"
      ]
    },
    {
      "cell_type": "markdown",
      "source": [
        "# 세 수"
      ],
      "metadata": {
        "id": "1U8KCNtlXP7D"
      }
    },
    {
      "cell_type": "code",
      "source": [
        "문제\n",
        "세 정수 A, B, C가 주어진다. 이때, 두 번째로 큰 정수를 출력하는 프로그램을 작성하시오. \n",
        "\n",
        "입력\n",
        "첫째 줄에 세 정수 A, B, C가 공백으로 구분되어 주어진다. (1 ≤ A, B, C ≤ 100)\n",
        "\n",
        "출력\n",
        "두 번째로 큰 정수를 출력한다.\n",
        "\n",
        "예제 입력 1 \n",
        "20 30 10\n",
        "예제 출력 1 \n",
        "20\n",
        "예제 입력 2 \n",
        "30 30 10\n",
        "예제 출력 2 \n",
        "30\n",
        "예제 입력 3 \n",
        "40 40 40\n",
        "예제 출력 3 \n",
        "40\n",
        "예제 입력 4 \n",
        "20 10 10\n",
        "예제 출력 4 \n",
        "10"
      ],
      "metadata": {
        "id": "FPyjA9kUXPyw"
      },
      "execution_count": null,
      "outputs": []
    },
    {
      "cell_type": "code",
      "execution_count": null,
      "metadata": {
        "colab": {
          "base_uri": "https://localhost:8080/"
        },
        "id": "bxPqIdL1XOBz",
        "outputId": "f4631c51-e42e-475c-86e1-a0a791364e0e"
      },
      "outputs": [
        {
          "output_type": "stream",
          "name": "stdout",
          "text": [
            "20 30 10\n",
            "20\n"
          ]
        }
      ],
      "source": [
        "nlist = list(map(int, input().split()))\n",
        "\n",
        "nlist = sorted(nlist)\n",
        "\n",
        "print(nlist[1])"
      ]
    }
  ]
}