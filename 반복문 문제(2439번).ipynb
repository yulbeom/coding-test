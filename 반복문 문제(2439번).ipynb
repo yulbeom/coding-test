{
 "cells": [
  {
   "cell_type": "code",
   "execution_count": null,
   "metadata": {},
   "outputs": [],
   "source": [
    "# 별 찍기 - 2\n",
    "# 문제\n",
    "# 첫째 줄에는 별 1개, 둘째 줄에는 별 2개, N번째 줄에는 별 N개를 찍는 문제\n",
    "\n",
    "# 하지만, 오른쪽을 기준으로 정렬한 별(예제 참고)을 출력하시오.\n",
    "\n",
    "# 입력\n",
    "# 첫째 줄에 N(1 ≤ N ≤ 100)이 주어진다.\n",
    "\n",
    "# 출력\n",
    "# 첫째 줄부터 N번째 줄까지 차례대로 별을 출력한다.\n",
    "\n",
    "# 예제 입력 1 \n",
    "# 5\n",
    "# 예제 출력 1 \n",
    "#     *\n",
    "#    **\n",
    "#   ***\n",
    "#  ****\n",
    "# *****"
   ]
  },
  {
   "cell_type": "code",
   "execution_count": 10,
   "metadata": {},
   "outputs": [
    {
     "name": "stdout",
     "output_type": "stream",
     "text": [
      "         *\n",
      "        **\n",
      "       ***\n",
      "      ****\n",
      "     *****\n",
      "    ******\n",
      "   *******\n",
      "  ********\n",
      " *********\n",
      "**********\n"
     ]
    }
   ],
   "source": [
    "# self-solved\n",
    "N = int(input())\n",
    "\n",
    "for i in range(1,N+1):\n",
    "    print(' '*(N-i) + '*'*i)"
   ]
  }
 ],
 "metadata": {
  "kernelspec": {
   "display_name": "Python 3.9.12 ('base')",
   "language": "python",
   "name": "python3"
  },
  "language_info": {
   "codemirror_mode": {
    "name": "ipython",
    "version": 3
   },
   "file_extension": ".py",
   "mimetype": "text/x-python",
   "name": "python",
   "nbconvert_exporter": "python",
   "pygments_lexer": "ipython3",
   "version": "3.9.12"
  },
  "orig_nbformat": 4,
  "vscode": {
   "interpreter": {
    "hash": "e75091d3f3a276abc6620f0302885431581c1fa53bca510542778da90c5f68c9"
   }
  }
 },
 "nbformat": 4,
 "nbformat_minor": 2
}
