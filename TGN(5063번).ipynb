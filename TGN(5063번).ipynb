{
 "cells": [
  {
   "cell_type": "markdown",
   "metadata": {},
   "source": [
    "# TGN"
   ]
  },
  {
   "cell_type": "markdown",
   "metadata": {},
   "source": [
    "##### 문제\n",
    "##### 상근이는 TGN사의 사장이다. TGN은 Teenager Game Network의 약자 같지만, 사실 Temporary Group Name의 약자이다.\n",
    "\n",
    "##### 이 회사는 청소년을 위한 앱을 만드는 회사이다. 일년에 걸친 개발기간 끝에 드디어 앱을 완성했고, 이제 팔기만 하면 된다.\n",
    "\n",
    "##### 상근이는 데이트를 인간의 두뇌로 이해할 수 없을 정도로 많이 한다. 따라서 엄청난 데이트 비용이 필요하다. 상근이는 광고를 적절히 해서 수익을 최대한 올리려고 한다.\n",
    "\n",
    "##### 어느 날 하늘을 바라보던 상근이는 시리우스의 기운을 받게 되었고, 광고 효과를 예측하는 능력을 갖게 되었다.\n",
    "\n",
    "##### 광고 효과가 주어졌을 때, 광고를 해야할지 말아야할지 결정하는 프로그램을 작성하시오.\n",
    "\n",
    "##### 입력\n",
    "##### 첫째 줄에 테스트 케이스의 개수 N이 주어진다. 다음 N개의 줄에는 3개의 정수 r, e, c가 주어진다. r은 광고를 하지 않았을 때 수익, e는 광고를 했을 때의 수익, c는 광고 비용이다. (-106 ≤ r,e ≤ 106, 0 ≤ c ≤ 106)\n",
    "\n",
    "##### 출력\n",
    "##### 각 테스트 케이스에 대해서, 광고를 해야 하면 \"advertise\", 하지 않아야 하면 \"do not advertise\", 광고를 해도 수익이 차이가 없다면 \"does not matter\"를 출력한다.\n",
    "\n",
    "##### 예제 입력 1 \n",
    "##### 3\n",
    "##### 0 100 70\n",
    "##### 100 130 30\n",
    "##### -100 -70 40\n",
    "##### 예제 출력 1 \n",
    "##### advertise\n",
    "##### does not matter\n",
    "##### do not advertise"
   ]
  },
  {
   "cell_type": "code",
   "execution_count": 2,
   "metadata": {},
   "outputs": [
    {
     "name": "stdout",
     "output_type": "stream",
     "text": [
      "advertise\n",
      "does not matter\n",
      "do not advertise\n"
     ]
    }
   ],
   "source": [
    "t = int(input())\n",
    "\n",
    "for _ in range(t):\n",
    "    r, e, c = map(int, input().split())\n",
    "\n",
    "    if r > e-c:\n",
    "        print('do not advertise')\n",
    "\n",
    "    if r == e-c:\n",
    "        print('does not matter')\n",
    "\n",
    "    if r < e-c:\n",
    "        print('advertise')"
   ]
  }
 ],
 "metadata": {
  "kernelspec": {
   "display_name": "Python 3.9.12 ('base')",
   "language": "python",
   "name": "python3"
  },
  "language_info": {
   "codemirror_mode": {
    "name": "ipython",
    "version": 3
   },
   "file_extension": ".py",
   "mimetype": "text/x-python",
   "name": "python",
   "nbconvert_exporter": "python",
   "pygments_lexer": "ipython3",
   "version": "3.9.12"
  },
  "orig_nbformat": 4,
  "vscode": {
   "interpreter": {
    "hash": "e75091d3f3a276abc6620f0302885431581c1fa53bca510542778da90c5f68c9"
   }
  }
 },
 "nbformat": 4,
 "nbformat_minor": 2
}
