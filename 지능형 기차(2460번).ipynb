{
 "cells": [
  {
   "cell_type": "markdown",
   "metadata": {},
   "source": [
    "# 지능형 기차 - 2"
   ]
  },
  {
   "cell_type": "code",
   "execution_count": null,
   "metadata": {},
   "outputs": [],
   "source": [
    "# 문제\n",
    "# 최근에 개발된 지능형 기차가 1번역(출발역)부터 10번역(종착역)까지 10개의 정차역이 있는 노선에서 운행되고 있다. 이 기차에는 타거나 내리는 사람 수를 자동으로 인식할 수 있는 장치가 있다. 이 장치를 이용하여 출발역에서 종착역까지 가는 도중 기차 안에 사람이 가장 많을 때의 사람 수를 계산하려고 한다. 단, 이 기차를 이용하는 사람들은 질서 의식이 투철하여, 역에서 기차에 탈 때, 내릴 사람이 모두 내린 후에 기차에 탄다고 가정한다.\n",
    "\n",
    "#       내린 사람 수\t탄 사람 수\n",
    "# 1번역\t     0\t            32\n",
    "# 2번역\t     3\t            13\n",
    "# 3번역\t    28\t            25\n",
    "# 4번역\t    17\t             5\n",
    "# 5번역\t    21\t            20\n",
    "# 6번역\t    11\t             0\n",
    "# 7번역\t    12\t            12\n",
    "# 8번역\t     4\t             2\n",
    "# 9번역\t     0\t             8\n",
    "# 10번역\t21\t             0\n",
    "# 예를 들어, 위와 같은 경우를 살펴보자. 이 경우, 기차 안에 사람이 가장 많은 때는 2번역에서 3명의 사람이 기차에서 내리고, 13명의 사람이 기차에 탔을 때로, 총 42명의 사람이 기차 안에 있다.\n",
    "\n",
    "# 이 기차는 다음 조건을 만족하면서 운행된다고 가정한다.\n",
    "\n",
    "# 기차는 역 번호 순서대로 운행한다.\n",
    "# 출발역에서 내린 사람 수와 종착역에서 탄 사람 수는 0이다.\n",
    "# 각 역에서 현재 기차에 있는 사람보다 더 많은 사람이 내리는 경우는 없다.\n",
    "# 기차의 정원은 최대 10,000명이고, 정원을 초과하여 타는 경우는 없다.\n",
    "# 10개의 역에 대해 기차에서 내린 사람 수와 탄 사람 수가 주어졌을 때, 기차에 사람이 가장 많을 때의 사람 수를 계산하는 프로그램을 작성하시오.\n",
    "\n",
    "# 입력\n",
    "# 각 역에서 내린 사람 수와 탄 사람 수가 빈칸을 사이에 두고 첫째 줄부터 열 번째 줄까지 역 순서대로 한 줄에 하나씩 주어진다. \n",
    "\n",
    "# 출력\n",
    "# 첫째 줄에 최대 사람 수를 출력한다.  \n",
    "\n",
    "# 예제 입력 1 \n",
    "# 0 32\n",
    "# 3 13\n",
    "# 28 25\n",
    "# 17 5\n",
    "# 21 20\n",
    "# 11 0\n",
    "# 12 12\n",
    "# 4 2\n",
    "# 0 8\n",
    "# 21 0\n",
    "# 예제 출력 1 \n",
    "# 42"
   ]
  },
  {
   "cell_type": "code",
   "execution_count": 2,
   "metadata": {},
   "outputs": [
    {
     "name": "stdout",
     "output_type": "stream",
     "text": [
      "42\n"
     ]
    }
   ],
   "source": [
    "# self_solved\n",
    "clist = []\n",
    "for i in range(10):\n",
    "    a, b = map(int, input().split())\n",
    "    \n",
    "    if i == 0:\n",
    "        c = b - a\n",
    "        clist.append(c)\n",
    "    \n",
    "    else:\n",
    "        c = clist[i-1] + b - a\n",
    "        clist.append(c)\n",
    "    \n",
    "print(max(clist))"
   ]
  },
  {
   "cell_type": "code",
   "execution_count": 3,
   "metadata": {},
   "outputs": [
    {
     "name": "stdout",
     "output_type": "stream",
     "text": [
      "42\n"
     ]
    }
   ],
   "source": [
    "# another_solved\n",
    "p = max_p = 0\n",
    "for _ in range(10):\n",
    "    a, b = map(int, input().split())\n",
    "    if max_p < p-a+b:\n",
    "        max_p = p-a+b\n",
    "    p = p-a+b\n",
    "print(max_p)"
   ]
  }
 ],
 "metadata": {
  "kernelspec": {
   "display_name": "Python 3.10.4 64-bit (system)",
   "language": "python",
   "name": "python3"
  },
  "language_info": {
   "codemirror_mode": {
    "name": "ipython",
    "version": 3
   },
   "file_extension": ".py",
   "mimetype": "text/x-python",
   "name": "python",
   "nbconvert_exporter": "python",
   "pygments_lexer": "ipython3",
   "version": "3.10.4"
  },
  "orig_nbformat": 4,
  "vscode": {
   "interpreter": {
    "hash": "6691eef47261d3f02471c5b7ec73937db1e22664dacd3534bae89dc3e4a68232"
   }
  }
 },
 "nbformat": 4,
 "nbformat_minor": 2
}
