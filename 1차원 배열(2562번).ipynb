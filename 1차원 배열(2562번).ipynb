{
 "cells": [
  {
   "cell_type": "code",
   "execution_count": null,
   "metadata": {},
   "outputs": [],
   "source": [
    "# 문제\n",
    "# 9개의 서로 다른 자연수가 주어질 때, 이들 중 최댓값을 찾고 그 최댓값이 몇 번째 수인지를 구하는 프로그램을 작성하시오.\n",
    "\n",
    "# 예를 들어, 서로 다른 9개의 자연수\n",
    "\n",
    "# 3, 29, 38, 12, 57, 74, 40, 85, 61\n",
    "\n",
    "# 이 주어지면, 이들 중 최댓값은 85이고, 이 값은 8번째 수이다.\n",
    "\n",
    "# 입력\n",
    "# 첫째 줄부터 아홉 번째 줄까지 한 줄에 하나의 자연수가 주어진다. 주어지는 자연수는 100 보다 작다.\n",
    "\n",
    "# 출력\n",
    "# 첫째 줄에 최댓값을 출력하고, 둘째 줄에 최댓값이 몇 번째 수인지를 출력한다.\n",
    "\n",
    "# 예제 입력 1 \n",
    "# 3\n",
    "# 29\n",
    "# 38\n",
    "# 12\n",
    "# 57\n",
    "# 74\n",
    "# 40\n",
    "# 85\n",
    "# 61"
   ]
  },
  {
   "cell_type": "code",
   "execution_count": 38,
   "metadata": {},
   "outputs": [
    {
     "name": "stdout",
     "output_type": "stream",
     "text": [
      "85\n",
      "8\n"
     ]
    }
   ],
   "source": [
    "# self_solved\n",
    "# dictionary 이용, for문 활용\n",
    "dic = {}\n",
    "\n",
    "for i in range(1, 10):\n",
    "    dic[i] = int(input())\n",
    "\n",
    "max_values = max(dic.values())\n",
    "for key, value  in dic.items():\n",
    "    if value == max_values:\n",
    "        print(max_values, key, sep='\\n')\n"
   ]
  },
  {
   "cell_type": "code",
   "execution_count": 52,
   "metadata": {},
   "outputs": [
    {
     "name": "stdout",
     "output_type": "stream",
     "text": [
      "85\n",
      "8\n"
     ]
    }
   ],
   "source": [
    "# different_solved\n",
    "# reversed() 사용\n",
    "dic = {}\n",
    " \n",
    "for i in range(1, 10):\n",
    "    dic[i] = int(input())\n",
    "\n",
    "max_value = max(dic.values())\n",
    "reversed_dic = dict(map(reversed, dic.items())) # dic의 key와 value값을 바꿔줌\n",
    "print(max_value, reversed_dic[max_value], sep='\\n')\n"
   ]
  },
  {
   "cell_type": "code",
   "execution_count": 48,
   "metadata": {},
   "outputs": [
    {
     "name": "stdout",
     "output_type": "stream",
     "text": [
      "{'x': 10, 'y': 20, 'z': 30}\n",
      "dict_keys(['x', 'y', 'z'])\n",
      "dict_values([10, 20, 30])\n",
      "dict_items([('x', 10), ('y', 20), ('z', 30)])\n",
      "<dict_reversekeyiterator object at 0x0000016736945300>\n",
      "<dict_reversevalueiterator object at 0x00000167369452B0>\n",
      "<dict_reverseitemiterator object at 0x0000016736985350>\n",
      "['z', 'y', 'x']\n",
      "[30, 20, 10]\n",
      "[('z', 30), ('y', 20), ('x', 10)]\n"
     ]
    }
   ],
   "source": [
    "# dict 참고 \n",
    "my_dict = dict([('x',10), ('y', 20), ('z',30)])\n",
    "print(my_dict)\n",
    "print(my_dict.keys())\n",
    "print(my_dict.values())\n",
    "print(my_dict.items())\n",
    "values_min = min(my_dict.values())\n",
    "keys_min = min(my_dict.keys())\n",
    "values_max = max(my_dict.values())\n",
    "keys_max = max(my_dict.keys())\n",
    "reversed_dic_keys = reversed(my_dict) # reversed() 함수쓰면 \n",
    "reversed_dic_values = reversed(my_dict.values())\n",
    "reversed_dic_items = reversed(my_dict.items())\n",
    "print(reversed_dic_keys) # iterator로 변환 memory 아끼기위해 \n",
    "print(reversed_dic_values)  \n",
    "print(reversed_dic_items) \n",
    "reversed_list_keys = list(reversed_dic_keys) # list 변환\n",
    "reversed_list_values = list(reversed_dic_values) \n",
    "reversed_list_items = list(reversed_dic_items) \n",
    "print(reversed_list_keys)\n",
    "print(reversed_list_values)\n",
    "print(reversed_list_items)\n"
   ]
  }
 ],
 "metadata": {
  "kernelspec": {
   "display_name": "Python 3.10.4 64-bit (system)",
   "language": "python",
   "name": "python3"
  },
  "language_info": {
   "codemirror_mode": {
    "name": "ipython",
    "version": 3
   },
   "file_extension": ".py",
   "mimetype": "text/x-python",
   "name": "python",
   "nbconvert_exporter": "python",
   "pygments_lexer": "ipython3",
   "version": "3.10.4"
  },
  "orig_nbformat": 4,
  "vscode": {
   "interpreter": {
    "hash": "6691eef47261d3f02471c5b7ec73937db1e22664dacd3534bae89dc3e4a68232"
   }
  }
 },
 "nbformat": 4,
 "nbformat_minor": 2
}
