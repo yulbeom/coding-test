{
 "cells": [
  {
   "cell_type": "code",
   "execution_count": null,
   "metadata": {},
   "outputs": [],
   "source": [
    "# 문제\n",
    "# 세준이는 기말고사를 망쳤다. 세준이는 점수를 조작해서 집에 가져가기로 했다. 일단 세준이는 자기 점수 중에 최댓값을 골랐다. 이 값을 M이라고 한다. 그리고 나서 모든 점수를 점수/M*100으로 고쳤다.\n",
    "\n",
    "# 예를 들어, 세준이의 최고점이 70이고, 수학점수가 50이었으면 수학점수는 50/70*100이 되어 71.43점이 된다.\n",
    "\n",
    "# 세준이의 성적을 위의 방법대로 새로 계산했을 때, 새로운 평균을 구하는 프로그램을 작성하시오.\n",
    "\n",
    "# 입력\n",
    "# 첫째 줄에 시험 본 과목의 개수 N이 주어진다. 이 값은 1000보다 작거나 같다. 둘째 줄에 세준이의 현재 성적이 주어진다. 이 값은 100보다 작거나 같은 음이 아닌 정수이고, 적어도 하나의 값은 0보다 크다.\n",
    "\n",
    "# 출력\n",
    "# 첫째 줄에 새로운 평균을 출력한다. 실제 정답과 출력값의 절대오차 또는 상대오차가 10-2 이하이면 정답이다.\n",
    "\n",
    "# 예제 입력 1 \n",
    "# 3\n",
    "# 40 80 60\n",
    "# 예제 출력 1 \n",
    "# 75.0\n",
    "# 예제 입력 2 \n",
    "# 3\n",
    "# 10 20 30\n",
    "# 예제 출력 2 \n",
    "# 66.666667\n",
    "# 10-2 이하의 오차를 허용한다는 말은 정확히 소수 2번째 자리까지 출력하라는 뜻이 아니다.\n",
    "\n",
    "# 예제 입력 3 \n",
    "# 4\n",
    "# 1 100 100 100\n",
    "# 예제 출력 3 \n",
    "# 75.25\n",
    "# 예제 입력 4 \n",
    "# 5\n",
    "# 1 2 4 8 16\n",
    "# 예제 출력 4 \n",
    "# 38.75\n",
    "# 예제 입력 5 \n",
    "# 2\n",
    "# 3 10\n",
    "# 예제 출력 5 \n",
    "# 65.0\n",
    "# 예제 입력 6 \n",
    "# 4\n",
    "# 10 20 0 100\n",
    "# 예제 출력 6 \n",
    "# 32.5\n",
    "# 예제 입력 7 \n",
    "# 1\n",
    "# 50\n",
    "# 예제 출력 7 \n",
    "# 100.0\n",
    "# 예제 입력 8 \n",
    "# 9\n",
    "# 10 20 30 40 50 60 70 80 90\n",
    "# 예제 출력 8 \n",
    "# 55.55555555555556"
   ]
  },
  {
   "cell_type": "code",
   "execution_count": 6,
   "metadata": {},
   "outputs": [
    {
     "name": "stdout",
     "output_type": "stream",
     "text": [
      "66.66666666666667\n"
     ]
    }
   ],
   "source": [
    "# self_solved\n",
    "n = int(input())\n",
    "nlist = list(map(int, input().split()))\n",
    "max_value = max(nlist)\n",
    "new_value = 0\n",
    "for i in nlist:\n",
    "    new_value += (i/max_value)*100\n",
    "print(new_value/n)"
   ]
  },
  {
   "cell_type": "code",
   "execution_count": 1,
   "metadata": {},
   "outputs": [
    {
     "name": "stdout",
     "output_type": "stream",
     "text": [
      "75.0\n"
     ]
    }
   ],
   "source": [
    "# another_solved\n",
    "n = int(input())  # 과목 수\n",
    "test_list = list(map(int, input().split()))\n",
    "max_score = max(test_list)\n",
    "\n",
    "new_list = []\n",
    "for score in test_list :\n",
    "    new_list.append(score/max_score *100)  # 새로운 점수 생성\n",
    "test_avg = sum(new_list)/n\n",
    "print(test_avg)"
   ]
  }
 ],
 "metadata": {
  "kernelspec": {
   "display_name": "Python 3.10.4 64-bit (system)",
   "language": "python",
   "name": "python3"
  },
  "language_info": {
   "codemirror_mode": {
    "name": "ipython",
    "version": 3
   },
   "file_extension": ".py",
   "mimetype": "text/x-python",
   "name": "python",
   "nbconvert_exporter": "python",
   "pygments_lexer": "ipython3",
   "version": "3.10.4"
  },
  "orig_nbformat": 4,
  "vscode": {
   "interpreter": {
    "hash": "6691eef47261d3f02471c5b7ec73937db1e22664dacd3534bae89dc3e4a68232"
   }
  }
 },
 "nbformat": 4,
 "nbformat_minor": 2
}
